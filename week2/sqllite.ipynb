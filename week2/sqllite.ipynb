{
 "cells": [
  {
   "cell_type": "code",
   "execution_count": 1,
   "metadata": {},
   "outputs": [],
   "source": [
    "import sqlite3"
   ]
  },
  {
   "cell_type": "code",
   "execution_count": 5,
   "metadata": {},
   "outputs": [],
   "source": [
    "connection = sqlite3.connect(\"sample.db\",)\n",
    "cursor = connection.cursor()"
   ]
  },
  {
   "cell_type": "markdown",
   "metadata": {},
   "source": [
    "### Create a table"
   ]
  },
  {
   "cell_type": "code",
   "execution_count": 8,
   "metadata": {},
   "outputs": [],
   "source": [
    "create_table_CMD = \"CREATE TABLE IF NOT EXISTS people (id integer primary key, first_name text, last_name text)\"\n",
    "cursor.execute(create_table_CMD)\n",
    "connection.commit()"
   ]
  },
  {
   "cell_type": "markdown",
   "metadata": {},
   "source": [
    "### Insert into the table"
   ]
  },
  {
   "cell_type": "code",
   "execution_count": 11,
   "metadata": {},
   "outputs": [],
   "source": [
    "names = [[\"Mohamed\", \"Essam\"], [\"Ahmed\", \"Ali\"]]\n",
    "names = names * 10\n",
    "insert_CMD = \"INSERT INTO people(first_name, last_name) VALUES(?, ?)\"\n",
    "for name in names:\n",
    "    cursor.execute(insert_CMD, name)\n",
    "connection.commit()"
   ]
  },
  {
   "cell_type": "markdown",
   "metadata": {},
   "source": [
    "### Retrive data from the table"
   ]
  },
  {
   "cell_type": "code",
   "execution_count": 13,
   "metadata": {},
   "outputs": [
    {
     "name": "stdout",
     "output_type": "stream",
     "text": [
      "(1, 'Mohamed', 'Essam')\n",
      "(2, 'Ahmed', 'Ali')\n",
      "(3, 'Mohamed', 'Essam')\n",
      "(4, 'Ahmed', 'Ali')\n"
     ]
    }
   ],
   "source": [
    "select_CMD = \"SELECT * FROM people LIMIT 4\"\n",
    "\n",
    "# Returns a generator\n",
    "selected_people = cursor.execute(select_CMD)\n",
    "for person in selected_people:\n",
    "    print(person)"
   ]
  },
  {
   "cell_type": "code",
   "execution_count": null,
   "metadata": {},
   "outputs": [],
   "source": []
  }
 ],
 "metadata": {
  "kernelspec": {
   "display_name": "Python 3",
   "language": "python",
   "name": "python3"
  },
  "language_info": {
   "codemirror_mode": {
    "name": "ipython",
    "version": 3
   },
   "file_extension": ".py",
   "mimetype": "text/x-python",
   "name": "python",
   "nbconvert_exporter": "python",
   "pygments_lexer": "ipython3",
   "version": "3.10.13"
  }
 },
 "nbformat": 4,
 "nbformat_minor": 2
}
