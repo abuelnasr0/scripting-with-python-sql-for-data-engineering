{
 "cells": [
  {
   "cell_type": "code",
   "execution_count": 1,
   "metadata": {},
   "outputs": [],
   "source": [
    "import sqlite3"
   ]
  },
  {
   "cell_type": "code",
   "execution_count": 4,
   "metadata": {},
   "outputs": [],
   "source": [
    "connction = sqlite3.connect(\"sample.db\")\n",
    "cursor = connction.cursor()"
   ]
  },
  {
   "cell_type": "markdown",
   "metadata": {},
   "source": [
    "### order by"
   ]
  },
  {
   "cell_type": "code",
   "execution_count": 16,
   "metadata": {},
   "outputs": [
    {
     "name": "stdout",
     "output_type": "stream",
     "text": [
      "('Mohamed', 'Essam')\n",
      "('Ahmed', 'Ali')\n"
     ]
    }
   ],
   "source": [
    "select_CMD = \"SELECT first_name, last_name FROM people where id > 21 ORDER BY last_name DESC limit 2\"\n",
    "selected_people = cursor.execute(select_CMD)\n",
    "for person in selected_people:\n",
    "    print(person)"
   ]
  },
  {
   "cell_type": "code",
   "execution_count": 21,
   "metadata": {},
   "outputs": [
    {
     "name": "stdout",
     "output_type": "stream",
     "text": [
      "('Mohamed', 'Essam')\n",
      "('Mohamed', 'Essam')\n"
     ]
    }
   ],
   "source": [
    "select_CMD = \"SELECT first_name, last_name FROM people WHERE last_name like '%am' LIMIT 2\"\n",
    "selected_people = cursor.execute(select_CMD)\n",
    "for person in selected_people:\n",
    "    print(person)"
   ]
  },
  {
   "cell_type": "code",
   "execution_count": null,
   "metadata": {},
   "outputs": [],
   "source": []
  }
 ],
 "metadata": {
  "kernelspec": {
   "display_name": "torch",
   "language": "python",
   "name": "python3"
  },
  "language_info": {
   "codemirror_mode": {
    "name": "ipython",
    "version": 3
   },
   "file_extension": ".py",
   "mimetype": "text/x-python",
   "name": "python",
   "nbconvert_exporter": "python",
   "pygments_lexer": "ipython3",
   "version": "3.10.13"
  }
 },
 "nbformat": 4,
 "nbformat_minor": 2
}
